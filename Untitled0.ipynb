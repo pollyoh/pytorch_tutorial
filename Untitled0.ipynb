{
  "nbformat": 4,
  "nbformat_minor": 0,
  "metadata": {
    "colab": {
      "name": "Untitled0.ipynb",
      "provenance": [],
      "authorship_tag": "ABX9TyM0utWneLyH3yAshh7AXFAT",
      "include_colab_link": true
    },
    "kernelspec": {
      "name": "python3",
      "display_name": "Python 3"
    },
    "language_info": {
      "name": "python"
    }
  },
  "cells": [
    {
      "cell_type": "markdown",
      "metadata": {
        "id": "view-in-github",
        "colab_type": "text"
      },
      "source": [
        "<a href=\"https://colab.research.google.com/github/pollyoh/pytorch_tutorial/blob/main/Untitled0.ipynb\" target=\"_parent\"><img src=\"https://colab.research.google.com/assets/colab-badge.svg\" alt=\"Open In Colab\"/></a>"
      ]
    },
    {
      "cell_type": "markdown",
      "metadata": {
        "id": "-FkP68Q06KuR"
      },
      "source": [
        "# 0. Basic python"
      ]
    },
    {
      "cell_type": "code",
      "metadata": {
        "colab": {
          "base_uri": "https://localhost:8080/"
        },
        "id": "qJg_3FB66QOM",
        "outputId": "76891fe0-e748-4c77-c4e6-7ca6f9065c49"
      },
      "source": [
        "a=1000\n",
        "b=2\n",
        "print(a,b)\n",
        "print(a*b, a-b, a/b, a+b)"
      ],
      "execution_count": 9,
      "outputs": [
        {
          "output_type": "stream",
          "name": "stdout",
          "text": [
            "1000 2\n",
            "2000 998 500.0 1002\n"
          ]
        }
      ]
    },
    {
      "cell_type": "code",
      "metadata": {
        "colab": {
          "base_uri": "https://localhost:8080/"
        },
        "id": "yJ19x5CY63x_",
        "outputId": "83e30bf6-62ea-4521-d6d7-f9309945d71e"
      },
      "source": [
        "name='이름'\n",
        "print(name)\n"
      ],
      "execution_count": 6,
      "outputs": [
        {
          "output_type": "stream",
          "name": "stdout",
          "text": [
            "이름\n"
          ]
        }
      ]
    },
    {
      "cell_type": "code",
      "metadata": {
        "colab": {
          "base_uri": "https://localhost:8080/"
        },
        "id": "mzkYDl2x7B2k",
        "outputId": "de8a0a5e-4531-4469-aca0-0636883a1767"
      },
      "source": [
        "print(a,b,name)\n",
        "print(a*b, a-b, a/b, a+b)"
      ],
      "execution_count": 8,
      "outputs": [
        {
          "output_type": "stream",
          "name": "stdout",
          "text": [
            "100 2 이름\n",
            "200 98 50.0 102\n"
          ]
        }
      ]
    }
  ]
}